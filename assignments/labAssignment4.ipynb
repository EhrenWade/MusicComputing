{
  "nbformat": 4,
  "nbformat_minor": 0,
  "metadata": {
    "colab": {
      "provenance": [],
      "include_colab_link": true
    },
    "kernelspec": {
      "name": "python3",
      "display_name": "Python 3"
    },
    "language_info": {
      "name": "python"
    }
  },
  "cells": [
    {
      "cell_type": "markdown",
      "metadata": {
        "id": "view-in-github",
        "colab_type": "text"
      },
      "source": [
        "<a href=\"https://colab.research.google.com/github/EhrenWade/MusicComputing/blob/main/assignments/labAssignment4.ipynb\" target=\"_parent\"><img src=\"https://colab.research.google.com/assets/colab-badge.svg\" alt=\"Open In Colab\"/></a>"
      ]
    },
    {
      "cell_type": "code",
      "execution_count": 1,
      "metadata": {
        "id": "MIwOrFnLQsi7"
      },
      "outputs": [],
      "source": [
        "import numpy as np\n",
        "import matplotlib.pyplot as plt\n",
        "import librosa\n",
        "import librosa.display\n",
        "import IPython.display"
      ]
    },
    {
      "cell_type": "code",
      "source": [
        "def plotAudio2(sig,sampleRate,title):\n",
        "\n",
        "    # from Assignment 2/Google Doc\n",
        "\n",
        "   # this version expects the audio file to have already been opened by librosa\n",
        "\n",
        "\n",
        "   # Adjust the x-axis to represent time\n",
        "\n",
        "\n",
        "   time=np.arange(0,sig.shape[0])/sampleRate\n",
        "\n",
        "\n",
        "   # Scale the y-axis to represent amplitude from -1 to 1\n",
        "   excursion=max(abs(sig))\n",
        "   sigNew = sig / excursion\n",
        "\n",
        "\n",
        "   # Label the x and y axes with variables\n",
        "   xlabel = 'Time (seconds)'\n",
        "   ylabel = 'Amplitude'\n",
        "\n",
        "\n",
        "   #plot the signal using the x and y axis variables\n",
        "   plt.plot(time,sigNew)\n",
        "   plt.xlabel(xlabel)\n",
        "   plt.ylabel(ylabel)\n",
        "   plt.title(title)\n",
        "   plt.show()\n",
        "\n"
      ],
      "metadata": {
        "id": "UhHY5gfiRIDf"
      },
      "execution_count": 2,
      "outputs": []
    },
    {
      "cell_type": "code",
      "source": [
        "def plotAudioFreqDomain():\n",
        "\n",
        "    # from Assignment 3\n",
        "\n",
        "    spec = librosa.amplitude_to_db(np.abs(librosa.stft(sig,n_fft=winSize)),ref=np.max)\n",
        "\n",
        "    librosa.display.specshow(spec, sr=sr, y_axis=specType)\n",
        "    plt.colorbar(format='%+2.0f dB')\n",
        "    plt.title(title)\n",
        "    plt.show()"
      ],
      "metadata": {
        "id": "da2LkB5ORI3G"
      },
      "execution_count": 3,
      "outputs": []
    },
    {
      "cell_type": "code",
      "source": [
        "def additiveSynthesis(samplingRate,frequency,numHarmonics,seqHarm,ampExponent):\n",
        "\n",
        "   # from additiveSynthesis.ipynb\n",
        "\n",
        "    # generate list of harmonics\n",
        "    harmonics = np.arange(1,numHarmonics+1,seqHarm)\n",
        "\n",
        "    # create a time series from 0 to 1 the inputted length\n",
        "    timeSeries = np.linspace(0, 1, samplingRate)\n",
        "\n",
        "    # create a cosine wave for the fundamental\n",
        "    signal = np.cos(2.0 * np.pi * frequency * timeSeries)\n",
        "\n",
        "    # add harmonics based on the those specified in the variable 'harmonics'\n",
        "    for harm in harmonics:\n",
        "        signal = signal + np.cos(2.0 * np.pi * frequency * harm * timeSeries)/harm**ampExponent\n",
        "\n",
        "    # scale the signal to between -1 and 1\n",
        "    excursion=max(abs(signal))\n",
        "    signal = signal / excursion\n",
        "\n",
        "    # plot signal\n",
        "    plt.plot(timeSeries,signal)\n",
        "    plt.xlabel('Time (Sec)')\n",
        "    plt.ylabel('Amplitude')\n",
        "    plt.title('Additive Synthesis')\n",
        "    plt.plot\n",
        "\n",
        "    return signal"
      ],
      "metadata": {
        "id": "QBLS6mXhRVsB"
      },
      "execution_count": 4,
      "outputs": []
    },
    {
      "cell_type": "code",
      "source": [
        "def makeWaveforms(frequency,samplingRate,numHarmonics,waveType):\n",
        "    # use an if/elif/else statement to set up the parameters for\n",
        "    # the different type of waveforms based on the code in\n",
        "    # additiveSynthesis.ipynb\n",
        "    # if, elif (else if) and else can be used to evaluate the contents of a variable\n",
        "\n",
        "    if waveType == 'sine':\n",
        "        signal = np.sin(2.0 * np.pi * frequency * timeSeries)\n",
        "\n",
        "    elif waveType == 'sawtooth':\n",
        "        signal = sawtooth(2.0 * np.pi * frequency * timeSeries)\n",
        "\n",
        "    elif waveType == 'triangle':\n",
        "        signal = triangle(2.0 * np.pi * frequency * timeSeries)\n",
        "\n",
        "    elif waveType == 'square':\n",
        "        signal = square(2.0 * np.pi * frequency * timeSeries)\n",
        "\n",
        "    else:\n",
        "        print('Invalid waveType')\n",
        "        return\n",
        "\n",
        "\n",
        "    # call additiveSynthesis() to generate a waveform\n",
        "\n",
        "    additiveSynthesis(samplingRate,frequency,numHarmonics,seqHarm,ampExponent)\n",
        "\n",
        "    # return the generated waveform (signal)\n",
        "\n",
        "    return signal\n",
        "\n"
      ],
      "metadata": {
        "id": "Xg02ng-gWYQy"
      },
      "execution_count": 5,
      "outputs": []
    },
    {
      "cell_type": "code",
      "source": [
        "def visualizeWaveforms(frequency, samplingRate, numHarmonics, waveType):\n",
        "  # call makeWaveform()\n",
        "  # test whether makeWaveforms() runs without error before you try plotting anything\n",
        "\n",
        "  makeWaveforms()\n",
        "\n",
        "  # call plotAudio2()\n",
        "\n",
        "  plotAudio2()\n",
        "\n",
        "  # call plotAudioFreqDomain()\n",
        "\n",
        "  plotAudioFreqDomain()\n",
        "\n",
        "  # return the output of makeWaveform()\n",
        "\n",
        "  return makeWaveforms()"
      ],
      "metadata": {
        "id": "SunRmpf6Wn63"
      },
      "execution_count": 9,
      "outputs": []
    },
    {
      "cell_type": "code",
      "source": [
        "frequency = 100\n",
        "samplingRate = 44100\n",
        "numHarmonics = 100\n",
        "waveType = 'sine'\n",
        "winSize = 1024\n",
        "specType = 'log'\n",
        "\n",
        "#visualizeWaveforms()\n",
        "#IPython.display.Audio()\n",
        "\n",
        "visualizeWaveforms()\n",
        "IPython.display.Audio()"
      ],
      "metadata": {
        "id": "MBNM9MMwSV2r",
        "outputId": "42cf163c-64d6-4f7f-bb42-0a4ce3a34e99",
        "colab": {
          "base_uri": "https://localhost:8080/",
          "height": 216
        }
      },
      "execution_count": 10,
      "outputs": [
        {
          "output_type": "error",
          "ename": "TypeError",
          "evalue": "visualizeWaveforms() missing 4 required positional arguments: 'frequency', 'samplingRate', 'numHarmonics', and 'waveType'",
          "traceback": [
            "\u001b[0;31m---------------------------------------------------------------------------\u001b[0m",
            "\u001b[0;31mTypeError\u001b[0m                                 Traceback (most recent call last)",
            "\u001b[0;32m<ipython-input-10-6e8cec95d1e5>\u001b[0m in \u001b[0;36m<cell line: 0>\u001b[0;34m()\u001b[0m\n\u001b[1;32m      9\u001b[0m \u001b[0;31m#IPython.display.Audio()\u001b[0m\u001b[0;34m\u001b[0m\u001b[0;34m\u001b[0m\u001b[0m\n\u001b[1;32m     10\u001b[0m \u001b[0;34m\u001b[0m\u001b[0m\n\u001b[0;32m---> 11\u001b[0;31m \u001b[0mvisualizeWaveforms\u001b[0m\u001b[0;34m(\u001b[0m\u001b[0;34m)\u001b[0m\u001b[0;34m\u001b[0m\u001b[0;34m\u001b[0m\u001b[0m\n\u001b[0m\u001b[1;32m     12\u001b[0m \u001b[0mIPython\u001b[0m\u001b[0;34m.\u001b[0m\u001b[0mdisplay\u001b[0m\u001b[0;34m.\u001b[0m\u001b[0mAudio\u001b[0m\u001b[0;34m(\u001b[0m\u001b[0;34m)\u001b[0m\u001b[0;34m\u001b[0m\u001b[0;34m\u001b[0m\u001b[0m\n",
            "\u001b[0;31mTypeError\u001b[0m: visualizeWaveforms() missing 4 required positional arguments: 'frequency', 'samplingRate', 'numHarmonics', and 'waveType'"
          ]
        }
      ]
    },
    {
      "cell_type": "code",
      "source": [
        "frequency = 100\n",
        "samplingRate = 44100\n",
        "numHarmonics = 100\n",
        "waveType = 'sawtooth'\n",
        "winSize = 1024\n",
        "specType = 'log'\n",
        "\n",
        "#visualizeWaveforms()\n",
        "#IPython.display.Audio()"
      ],
      "metadata": {
        "id": "GKWxd4dHWG_B"
      },
      "execution_count": null,
      "outputs": []
    },
    {
      "cell_type": "code",
      "source": [
        "frequency = 100\n",
        "samplingRate = 44100\n",
        "numHarmonics = 100\n",
        "waveType = 'triangle'\n",
        "winSize = 1024\n",
        "specType = 'log'\n",
        "\n",
        "#visualizeWaveforms()\n",
        "#IPython.display.Audio()"
      ],
      "metadata": {
        "id": "goh3AlgaWLMq"
      },
      "execution_count": null,
      "outputs": []
    },
    {
      "cell_type": "code",
      "source": [
        "frequency = 100\n",
        "samplingRate = 44100\n",
        "numHarmonics = 100\n",
        "waveType = 'square'\n",
        "winSize = 1024\n",
        "specType = 'log'\n",
        "\n",
        "#visualizeWaveforms()\n",
        "#IPython.display.Audio()"
      ],
      "metadata": {
        "id": "GB4BGoA3WQhv"
      },
      "execution_count": null,
      "outputs": []
    }
  ]
}